{
 "cells": [
  {
   "cell_type": "code",
   "execution_count": null,
   "metadata": {},
   "outputs": [],
   "source": [
    "import numpy as np\n",
    "import matplotlib.pyplot as plt\n",
    "import scipy as sp\n",
    "import math\n",
    "import random \n",
    "\n",
    "pi = np.pi\n",
    "print(\"imports worked hooray\")\n"
   ]
  },
  {
   "cell_type": "markdown",
   "metadata": {},
   "source": [
    "Define qubit and gates as matrices"
   ]
  },
  {
   "cell_type": "code",
   "execution_count": null,
   "metadata": {},
   "outputs": [],
   "source": [
    "# expressing the relation between qbit and its matrix\n",
    "def quvec(a):\n",
    "    exp = 0\n",
    "    b = np.zeros([2**len(a)])\n",
    "    for i in range(len(a)):\n",
    "        exp += (a[-i-1])*(2**i) # -i-1 gives the values from the end of the array\n",
    "    b[-exp-1] = 1\n",
    "    return b\n"
   ]
  },
  {
   "cell_type": "code",
   "execution_count": null,
   "metadata": {},
   "outputs": [],
   "source": [
    "#correct base Ket\n",
    "# define the base for a vector represntation of qubit\n",
    "def ket_base(index, L):\n",
    "    n = int(np.log2(L))\n",
    "    b = np.zeros(n)\n",
    "    for i in range(n):\n",
    "        b[-i-1] = index % 2\n",
    "        index = index//2\n",
    "    return b\n",
    "\n",
    "# print the base as kets\n",
    "def as_string_index(index, L):\n",
    "    ket = [str(int(i)) for i in ket_base(index, L)]\n",
    "    return f\"|{','.join(ket)}>\"\n",
    "\n",
    "# print the components of a vector in the base presentation\n",
    "def ket(psi):\n",
    "    kets = [as_string_index(i, len(psi)) for i in range(len(psi))]\n",
    "    return [' + '.join([f'{psi[i]} {kets[-i-1]}' for i in range(len(psi)) if psi[i] != 0])]\n"
   ]
  },
  {
   "cell_type": "code",
   "execution_count": null,
   "metadata": {},
   "outputs": [],
   "source": [
    "# 1_Bit operators and important states\n",
    "# Pauli\n",
    "Z = np.array([[1,0],[0,-1]])\n",
    "X = np.array([[0,1],[1,0]])\n",
    "Y = np.array([[0,-1j],[1j,0]])\n",
    "I = np.array([[1,0],[0,1]])\n",
    "\n",
    "# Clifford\n",
    "H = 1/np.sqrt(2) * np.array([[1,1],[1,-1]])\n",
    "S = np.array([[1j,0],[0,-1j]])\n",
    "T = np.array([[1,0],[0,np.exp((1j*pi)/4)]])\n",
    "\n",
    "# X base\n",
    "plus = (quvec([0]) + quvec([1]))/np.sqrt(2)\n",
    "minus = (quvec([0]) - quvec([1]))/np.sqrt(2)\n",
    "\n",
    "# bell states\n",
    "\n"
   ]
  },
  {
   "cell_type": "markdown",
   "metadata": {},
   "source": [
    "Operate gates on states"
   ]
  },
  {
   "cell_type": "code",
   "execution_count": null,
   "metadata": {},
   "outputs": [],
   "source": [
    "# function to operate gates a series of gates on a state\n",
    "def operate(operators, psi):\n",
    "    vec_psi = quvec(psi)\n",
    "    for i in range(len(operators)):\n",
    "        vec_psi = np.matmul(operators[-i-1], vec_psi)\n",
    "    return vec_psi"
   ]
  },
  {
   "cell_type": "code",
   "execution_count": null,
   "metadata": {},
   "outputs": [],
   "source": [
    "# creat n dimension gates\n",
    "def n_d_gates(operators):\n",
    "    gate = operators[-1]\n",
    "    for i in range(len(operators)-1):\n",
    "        gate = np.kron(operators[-i-2],gate)\n",
    "    return gate\n"
   ]
  },
  {
   "cell_type": "code",
   "execution_count": null,
   "metadata": {},
   "outputs": [],
   "source": [
    "# apply general operators on a general qubit\n",
    "def matrix_gate(gates,quvec): # gates is a list of gates and theis indices, \n",
    "                              # i.e [X,1,Y,3] will perform the tensor products for X in 1 and Y in 3 while the rest are I matching to the state dimension\n",
    "    \n",
    "    init_gate = [I]*(int(np.log2(len(quvec))))\n",
    "    i = 1\n",
    "    while i <= len(gates):\n",
    "        init_gate[gates[i]-1] = gates[i-1]\n",
    "        i += 2\n",
    "    final_gate = n_d_gates(init_gate)\n",
    "    return final_gate\n",
    "    \n",
    "    \n",
    "\n",
    "\n",
    "def general_operate(gates,quvec): # gates is a list of gates and theis indices, i.e [X,1,Y,3] will apply X on the 1st qubit and Y on the 3rd\n",
    "    # the first qubit index is 1\n",
    "    final_gate = matrix_gate(gates,quvec)\n",
    "    a = np.matmul(final_gate,quvec)\n",
    "    return a"
   ]
  },
  {
   "cell_type": "code",
   "execution_count": null,
   "metadata": {},
   "outputs": [],
   "source": [
    "psi = [1,0,0,1,0,0]\n",
    "psi_1 = general_operate([Z,1,X,3], quvec(psi))\n",
    "print (\"psi_1 =\", ket(psi_1))\n"
   ]
  },
  {
   "cell_type": "markdown",
   "metadata": {},
   "source": [
    "Normalization, probability density and power tesnor product"
   ]
  },
  {
   "cell_type": "code",
   "execution_count": null,
   "metadata": {},
   "outputs": [],
   "source": [
    "# normalize a state\n",
    "def norm(qvec):\n",
    "    qvec_size = np.matmul(np.conj(qvec),qvec)\n",
    "    normalized_state = (qvec)/np.sqrt(qvec_size)\n",
    "    return normalized_state\n",
    "\n",
    "#8 this function takes a state in superposition of base vectors and return only one, considering probabilities\n",
    "def measure_probability(state):       # state should be an array - vector\n",
    "    final_state = np.zeros(len(state))\n",
    "    outcomes = list(range(0,len(state)))\n",
    "    probabilities = norm(state)\n",
    "    measurment = random.choices(outcomes, weights=probabilities, k=1)\n",
    "    final_state[measurment[0]] = 1\n",
    "    return final_state\n",
    "\n",
    "    "
   ]
  },
  {
   "cell_type": "code",
   "execution_count": null,
   "metadata": {},
   "outputs": [],
   "source": [
    "# tensor product a tensor with himself multiple times\n",
    "\n",
    "def tensor_exponent(tensor,power):\n",
    "    i = 1\n",
    "    if power != 0:\n",
    "        power_tensor = tensor\n",
    "        while i < power:\n",
    "            power_tensor = np.kron(tensor, power_tensor)\n",
    "            i += 1\n",
    "    else:\n",
    "        power_tensor = 1\n",
    "    return power_tensor\n",
    "\n",
    "\n"
   ]
  },
  {
   "cell_type": "markdown",
   "metadata": {},
   "source": [
    "Measurements"
   ]
  },
  {
   "cell_type": "code",
   "execution_count": null,
   "metadata": {},
   "outputs": [],
   "source": [
    "# working measurement for 1 qbit system\n",
    "\n",
    "def observation_value(operator, state): #for pauli, observation ranges between -1 and 1 due to eigenvalues\n",
    "    a = norm(state)\n",
    "    b = np.matmul(operator,a) # O|v>\n",
    "    c = np.conj(a) # <v|\n",
    "    d = np.round(np.matmul(c,b), 10) # <v|O|v>, rounding is for values close to zero to be zero\n",
    "    return d\n",
    "\n",
    "def projector(operator, eigenvalue):\n",
    "    proj = (I + eigenvalue * operator)/2\n",
    "    return proj\n",
    "    \n",
    "    \n",
    "def Measure_2d(operator, state):\n",
    "    state = norm(state)\n",
    "    p = (observation_value(operator,state) + 1)/2 # Changes <O> range from {-1,1} to {0,1}\n",
    "    eigenvalue = random.choices([1,-1], cum_weights = [p,1], k = 1)\n",
    "    proj = projector(operator, eigenvalue)\n",
    "    return norm(np.matmul(proj, state)) , np.real(p)\n",
    "\n",
    "\n"
   ]
  },
  {
   "cell_type": "code",
   "execution_count": null,
   "metadata": {},
   "outputs": [],
   "source": [
    "int(np.log2(len(quvec([1]))))"
   ]
  },
  {
   "cell_type": "code",
   "execution_count": null,
   "metadata": {},
   "outputs": [],
   "source": [
    "def Measure(operator, state, site): #first qubit is i = 1\n",
    "    dimension = int(np.log2(len(state)))\n",
    "    operator_site = [I]*(site-1) + [operator] + [I]*(dimension-site) #operator list for O in the site place \n",
    "    operator_n = n_d_gates(operator_site) # operator of O in the site place, for all the other sites its identity \n",
    "\n",
    "    p = (observation_value(operator_n,state) + 1)/2 # Changes <O> range from {-1,1} to {0,1}\n",
    "    eigenvalue = random.choices([1,-1], cum_weights = [p,1], k = 1)\n",
    "    \n",
    "    proj_1d = projector(operator, eigenvalue) # define the 2d projector based on the chosen eigenvalue\n",
    "    proj = n_d_gates([I]*(site-1) + [proj_1d] + [I]*(dimension-site)) # create operator to project on the wanted site\n",
    "    return norm(np.matmul(proj, state)) , np.real(p), 1-np.real(p)\n"
   ]
  },
  {
   "cell_type": "code",
   "execution_count": null,
   "metadata": {},
   "outputs": [],
   "source": [
    "# v = norm(quvec([1,1,0,1,0])+quvec([1,0,0,0,0]))\n",
    "# v = norm(quvec([1,1,0,1,0]))\n",
    "\n",
    "v = norm(quvec([1]))\n",
    "a, b ,c = Measure(X,minus,1)\n",
    "print(\"measured:\",ket(a),\"\\n\"\"probability for +:\", b ,\"\\n\"\"probability for -:\", c)\n",
    "\n"
   ]
  },
  {
   "cell_type": "code",
   "execution_count": null,
   "metadata": {},
   "outputs": [],
   "source": [
    "def measure_simultaneously(measureables, state): #measureables are operators and sites. i.e [X,1,Y,3]\n",
    "    state = norm(state) #  normalize the input state\n",
    "    dimension  = int(np.log2(len(state)))\n",
    "    \n",
    "    #create the matrix of the wanted measurables\n",
    "    O = matrix_gate(measureables,state)\n",
    "    \n",
    "    # calculate the observation value\n",
    "    expectation = observation_value(O,state) \n",
    "\n",
    "    #probability and choose eigenvalue\n",
    "    p = (expectation + 1)/2\n",
    "    eigenvalue = random.choices([1,-1], cum_weights = [p,1], k = 1) #choose +1 or -1 biased by p\n",
    "    \n",
    "    #project the state on the chosen eigenvalue subspapce\n",
    "    projector = (tensor_exponent(I,dimension) + eigenvalue*O)/2  #create the projector\n",
    "    Projected = np.matmul(projector,state) \n",
    "    return norm(Projected), p, eigenvalue\n",
    "    \n",
    "    \n",
    "\n"
   ]
  },
  {
   "cell_type": "markdown",
   "metadata": {},
   "source": [
    "Histogram of the measurements"
   ]
  },
  {
   "cell_type": "code",
   "execution_count": null,
   "metadata": {},
   "outputs": [],
   "source": [
    "# Histogram for the outcomes of option 1\n",
    "runs = 10000\n",
    "\n",
    "a = 1\n",
    "b = -1\n",
    "c = 0\n",
    "d = 0\n",
    "\n",
    "psi = a*quvec([1,0])+ b*quvec([0,1])+ c*quvec([0,0])+ d*quvec([1,1])\n",
    "gates = [Z,1]\n",
    "\n",
    "site = []\n",
    "bins = np.linspace(-2, 2, 10)\n",
    "for i in range(runs):\n",
    "    measured, p, eigenvalue  = measure_simultaneously(gates,psi)\n",
    "    site.append(eigenvalue)\n",
    "\n",
    "\n",
    "\n",
    "site = sum(site,[])\n",
    "ratio1 = (np.histogram(site,bins = 2)[0][1])/runs\n",
    "ratio2 = (np.histogram(site,bins = 2)[0][0])/runs\n",
    "\n",
    "plt.hist([site], bins, label=['coin toss result counts'])\n",
    "plt.text(1.5, 4500, f'p = {p}', fontsize=10, color='red')\n",
    "plt.text(1.5, 4000, f'1 percentage = {ratio1}', fontsize=10, color='red')\n",
    "plt.text(1.5, 3700, f'-1 percentage = {ratio2}', fontsize=10, color='red')\n",
    "plt.legend(loc='upper right')\n",
    "plt.xlabel(\"eigenvalue\")\n",
    "plt.ylabel(\"Counts\")\n",
    "plt.grid()\n",
    "plt.show()"
   ]
  },
  {
   "cell_type": "code",
   "execution_count": null,
   "metadata": {},
   "outputs": [],
   "source": [
    "a = 1\n",
    "b =1\n",
    "c = 0\n",
    "d = 0\n",
    "\n",
    "v = a*quvec([1,1,1]) + b*quvec([0,1,0]) + c*quvec([1,1,0])+ d*quvec([0,0,0])\n",
    "state = a*quvec([1,1,1])+b*quvec([1,1,0]) + c*quvec([1,0,1]) + d*quvec([0,0,1]) + quvec([0,1,0]) + quvec([1,0,0])\n",
    "measurables = [X,1,X,2]\n",
    "\n",
    "\n",
    "# measured, p, eigenvalue = measure_simultaneously2(measurables,state)\n",
    "measured, p, eigenvalue = measure_simultaneously(measurables,v)\n",
    "\n",
    "print('measured:', ket(measured), '\\n probability for +1:', p, '\\n eigenvalue:', eigenvalue)"
   ]
  },
  {
   "cell_type": "code",
   "execution_count": null,
   "metadata": {},
   "outputs": [],
   "source": [
    "# Histogram for the outcomes of option 1\n",
    "# define the amount of runs, the state and the measurement operator\n",
    "runs = 10000\n",
    "\n",
    "a = 1\n",
    "b = 1\n",
    "c = 1\n",
    "d = 1\n",
    "\n",
    "state = a*quvec([1,1,1]) + b*quvec([0,1,0]) + c*quvec([1,0,1]) + d*quvec([0,0,0])\n",
    "measurables = [X,1,X,2]\n",
    "\n",
    "\n",
    "#create the data for the histogram\n",
    "site = []\n",
    "for i in range(runs):\n",
    "    # a, b, eigenvalues, probabilities, e, f  = measure_simultaneously([Z,1,X,2],quvec([1,1]))\n",
    "    measured, p, eigenvalue  = measure_simultaneously(measurables,state)\n",
    "    site.append(eigenvalue)\n",
    "\n",
    "\n",
    "site = sum(site,[])\n",
    "ratio1 = (np.histogram(site,bins = 2)[0][1])/runs\n",
    "ratio2 = (np.histogram(site,bins = 2)[0][0])/runs\n",
    "\n",
    "# print the histogram\n",
    "bins = np.linspace(-2, 2, 10)\n",
    "plt.hist([site], bins, label=['coin toss result counts'])\n",
    "plt.text(1.5, 4500, f'p = {p}', fontsize=10, color='red')\n",
    "plt.text(1.5, 4000, f'1 fraction = {ratio1}', fontsize=10, color='red')\n",
    "plt.text(1.5, 3700, f'-1 fraction = {ratio2}', fontsize=10, color='red')\n",
    "plt.legend(loc='upper right')\n",
    "plt.xlabel(\"eigenvalue\")\n",
    "plt.ylabel(\"Counts\")\n",
    "plt.grid()\n",
    "plt.show()"
   ]
  },
  {
   "cell_type": "markdown",
   "metadata": {},
   "source": [
    "Measurments of non commutive operators"
   ]
  },
  {
   "cell_type": "code",
   "execution_count": null,
   "metadata": {},
   "outputs": [],
   "source": [
    "def Measure_Z_for_entire_state_uniform_probability(state, probability):\n",
    "    state = norm(state)\n",
    "    dimension = int(np.log2(len(state)))\n",
    "    p = random.choices([1,-1], cum_weights = [probability,1], k = dimension) #choose +1 or -1 biased by p\n",
    "    sites_measured = []\n",
    "    for i in range(1,dimension+1):\n",
    "        if p[i-1] == 1:\n",
    "            a,b,c = Measure(Z, state, i) # Measure returns three results: the Measured state(a), probability for +1(b) and prob for -1(c) \n",
    "            state = a\n",
    "            sites_measured.append(i)\n",
    "    return norm(state), sites_measured\n",
    "\n",
    "def Measure_XX_for_entire_state_uniform_probability(state,probability):\n",
    "    state = norm(state)\n",
    "    dimension = int(np.log2(len(state)))\n",
    "    p = random.choices([1,-1], cum_weights = [probability,1], k = dimension) #choose +1 or -1 biased by p\n",
    "    sites_measured = []\n",
    "    for i in range(1,dimension):\n",
    "        if p[i-1] == 1:\n",
    "            a,b,c = measure_simultaneously([X,i,X,i+1], state) #returns three results: normalized Measured state(a), probability for +1(b) chosen eigenvalue(c) \n",
    "            state = a\n",
    "            sites_measured.append(i)\n",
    "    return norm(state), sites_measured\n",
    "\n",
    "\n",
    "def sequence_uniform_probability(state,probability, runs):\n",
    "    Pz = probability\n",
    "    Px = 1 - probability\n",
    "    state = norm(state)\n",
    "    for i in range(1,runs+1):\n",
    "        # measure Z on each site\n",
    "        state, sites_measured = Measure_Z_for_entire_state_uniform_probability(state, Pz)\n",
    "        print(f\"state after {i} Z:\", ket(state), f\", sites_measured for Z {i}:\" , sites_measured)\n",
    "\n",
    "        # measure XX on each neighboring sites\n",
    "        state, sites_measured = Measure_XX_for_entire_state_uniform_probability(state,Px)\n",
    "        print(f\"state after {i} XX:\",ket(state), f\" \\n sites_measured for XX {i}:\" , sites_measured)\n",
    "    return norm(state)\n",
    "\n"
   ]
  },
  {
   "cell_type": "code",
   "execution_count": null,
   "metadata": {},
   "outputs": [],
   "source": [
    "ket(sequence_uniform_probability(quvec([1,0,0]), 0.9, 3))"
   ]
  },
  {
   "cell_type": "code",
   "execution_count": null,
   "metadata": {},
   "outputs": [],
   "source": [
    "def Measure_Z_for_entire_state(state, probabilities):\n",
    "    p = np.array(probabilities)\n",
    "    norm_p = p/sum(p)\n",
    "    state = norm(state)\n",
    "    dimension = int(np.log2(len(state)))\n",
    "    sites_measured = []\n",
    "    for i in range(1,dimension+1):\n",
    "        p = random.choices([1,-1], cum_weights = [norm_p[i-1],1], k = 1) #choose +1 or -1 biased by p\n",
    "        if p[0] == 1:\n",
    "            a,b,c = Measure(Z, state, i) # Measure returns three results: the Measured state(a), probability for +1(b) and prob for -1(c) \n",
    "            state = a\n",
    "            sites_measured.append(i)\n",
    "    return norm(state), sites_measured\n",
    "\n",
    "def Measure_XX_for_entire_state(state,probabilities):\n",
    "    prob = np.array(probabilities)\n",
    "    norm_p = prob/sum(prob) #make sure the sum of probabilities is 1\n",
    "    state = norm(state)\n",
    "    dimension = int(np.log2(len(state)))\n",
    "    sites_measured = []\n",
    "    for i in range(1,dimension):\n",
    "        p = random.choices([1,-1], cum_weights = [norm_p[i-1],1], k = 1) #choose +1 or -1 biased by p\n",
    "        if p[0] == 1:\n",
    "            a,b,c = measure_simultaneously([X,i,X,i+1], state) #returns three results: normalized Measured state(a), probability for +1(b) chosen eigenvalue(c) \n",
    "            state = a\n",
    "            sites_measured.append(i)\n",
    "    return norm(state), sites_measured\n",
    "\n",
    "\n",
    "\n",
    "\n",
    "def Z_XX(state, probabilities, runs):\n",
    "    prob = np.array(probabilities)\n",
    "    norm_p = prob/sum(prob)\n",
    "    for i in range(1,runs+1):\n",
    "        # measure Z on each site\n",
    "        state, sites_measured = Measure_Z_for_entire_state(state, norm_p)\n",
    "        print(f\"state after {i} Z:\", ket(state), f\", sites_measured for Z {i}:\" , sites_measured)\n",
    "\n",
    "        # measure XX on each neighboring sites\n",
    "        state, sites_measured = Measure_XX_for_entire_state(state,norm_p)\n",
    "        print(f\"state after {i} XX:\",ket(state), f\" \\n sites_measured for XX {i}:\" , sites_measured)\n",
    "    return ket(norm(state))\n",
    "\n",
    "\n",
    "\n"
   ]
  },
  {
   "cell_type": "code",
   "execution_count": null,
   "metadata": {},
   "outputs": [],
   "source": [
    "norm_p = [0.1,0.5,0.8]\n",
    "\n",
    "p = random.choices([1,-1], cum_weights = [norm_p[1],1], k = 1) #choose +1 or -1 biased by p\n",
    "p"
   ]
  },
  {
   "cell_type": "code",
   "execution_count": null,
   "metadata": {},
   "outputs": [],
   "source": [
    "Z_XX(quvec([1,0,0]), [1,1,9], 3)"
   ]
  },
  {
   "cell_type": "markdown",
   "metadata": {},
   "source": [
    "Entanglement entropy"
   ]
  },
  {
   "cell_type": "code",
   "execution_count": null,
   "metadata": {},
   "outputs": [],
   "source": [
    "def coefficient_matrix(state, division_qubit): #state should be ket, division is the last qubit we want at system a of |a,b>\n",
    "    dimension = len(state)\n",
    "    size = dimension / 2**division_qubit\n",
    "    psi_matrix = np.reshape(state, (-1, int(size)))\n",
    "    return psi_matrix\n"
   ]
  },
  {
   "cell_type": "code",
   "execution_count": null,
   "metadata": {},
   "outputs": [],
   "source": [
    "v = quvec([0,0,1]) + quvec([0,1,0])\n",
    "v"
   ]
  },
  {
   "cell_type": "code",
   "execution_count": null,
   "metadata": {},
   "outputs": [],
   "source": [
    "v_matrix = coefficient_matrix(v,2)\n",
    "v_matrix"
   ]
  },
  {
   "cell_type": "code",
   "execution_count": null,
   "metadata": {},
   "outputs": [],
   "source": [
    "def entanglement_entropy(state,division):\n",
    "    state = norm(state)\n",
    "    psi_matrix = coefficient_matrix(state, division)\n",
    "    singular_Values = np.linalg.svd(psi_matrix, full_matrices=False, compute_uv=False, hermitian=False)\n",
    "    S = 0\n",
    "    for i in singular_Values:\n",
    "        if i != 0:\n",
    "            S -= i**2 * np.log(i**2)\n",
    "    \n",
    "    # S = [(i**2 * np.log(i**2)) for i in singular_Values]\n",
    "    return S"
   ]
  },
  {
   "cell_type": "code",
   "execution_count": null,
   "metadata": {},
   "outputs": [],
   "source": [
    "entanglement_entropy(v,2)"
   ]
  },
  {
   "cell_type": "markdown",
   "metadata": {},
   "source": [
    "Ln(2) = 0.6931"
   ]
  },
  {
   "cell_type": "code",
   "execution_count": null,
   "metadata": {},
   "outputs": [],
   "source": [
    "entanglement_entropy(v,1)"
   ]
  },
  {
   "cell_type": "code",
   "execution_count": null,
   "metadata": {},
   "outputs": [],
   "source": [
    "a = 1\n",
    "b = 1\n",
    "c = 1\n",
    "\n",
    "v = a*quvec([0,0,0,0]) + b*quvec([1,1,1,1]) + c*quvec([0,0,1,1])\n",
    "v = norm(v)\n",
    "\n",
    "\n",
    "\n",
    "print(v, \"\\n\" , coefficient_matrix(v,1))\n",
    "entanglement_entropy(v, 1)"
   ]
  },
  {
   "cell_type": "code",
   "execution_count": null,
   "metadata": {},
   "outputs": [],
   "source": [
    "def Z_XX_uniform_probability(state,probability, runs, division, evolution = True):\n",
    "    Pz = probability\n",
    "    Px = 1 - probability\n",
    "    state = norm(state)\n",
    "    S_0 =  entanglement_entropy(state,division)\n",
    "    Entanglement = [S_0]\n",
    "    if evolution:\n",
    "        print(\"Initial Entanglement Entropy:\", S_0)\n",
    "    for i in range(1,runs+1):\n",
    "        # measure Z on each site\n",
    "        state, sites_measured = Measure_Z_for_entire_state_uniform_probability(state, Pz)\n",
    "        S = entanglement_entropy(state,division)\n",
    "        if evolution:\n",
    "            print(f\"state after {i} Z:\", ket(state), f\", sites_measured for Z {i}:\" , sites_measured, \"\\n Entanglement entropy:\", S)\n",
    "\n",
    "        # measure XX on each neighboring sites\n",
    "        state, sites_measured = Measure_XX_for_entire_state_uniform_probability(state,Px)\n",
    "        S = entanglement_entropy(state,division)\n",
    "        if evolution:\n",
    "            print(f\"state after {i} XX:\",ket(state), f\" sites_measured for XX {i}:\" , sites_measured,  \"\\n Entanglement entropy:\", S)\n",
    "        Entanglement.append(S)\n",
    "    return norm(state) , Entanglement\n",
    "\n",
    "a,b = Z_XX_uniform_probability(quvec([1,0,0]), 0.5, 3, 1)\n",
    "print(\"final state:\", ket(a) , \"\\n entanglement after each run:\" , b)\n"
   ]
  },
  {
   "cell_type": "code",
   "execution_count": null,
   "metadata": {},
   "outputs": [],
   "source": [
    "v = quvec([1,0,1,1]) + quvec([1,1,0,0]) + quvec([1,0,0,0])\n",
    "P = 0.5\n",
    "runs = 10\n",
    "div = 1\n",
    "\n",
    "S_0 =  entanglement_entropy(v,div)\n",
    "S_0"
   ]
  },
  {
   "cell_type": "markdown",
   "metadata": {},
   "source": [
    "Plot Entanglment Entropy"
   ]
  },
  {
   "cell_type": "code",
   "execution_count": null,
   "metadata": {},
   "outputs": [],
   "source": [
    "#Entanglement as function of time for different probabilities\n",
    "\n",
    "# System Settings\n",
    "v = quvec([1,0,1,0])\n",
    "# v = quvec([1,0,1,1]) + quvec([1,1,0,0]) + quvec([1,0,0,0])\n",
    "P = [0.1,0.5,0.9]\n",
    "runs = 30\n",
    "div = 2\n",
    "\n",
    "for p in P:\n",
    "    # extract the Data \n",
    "    final_state, Entanglement = Z_XX_uniform_probability(v, p, runs, div, evolution=False)\n",
    "    time = np.arange(len(Entanglement))\n",
    "    # print(Entanglement, time)\n",
    "    plt.plot(time, Entanglement, marker = '.', markersize = 10, label = f'{p}')\n",
    "\n",
    "\n",
    "plt.title('Entanglement as a Function of Time - 3 Different Probabilities')\n",
    "plt.legend()\n",
    "plt.grid()\n",
    "plt.xlabel('Time')\n",
    "plt.ylabel('Entanglement Entropy')\n",
    "plt.show()\n",
    "\n",
    "\n",
    "\n",
    "\n",
    "# #Save plot as PNG file\n",
    "# output_file = os.path.join(output_folder, f\"{sheet_name}.png\")\n",
    "# plt.savefig(output_file)\n",
    "\n"
   ]
  },
  {
   "cell_type": "code",
   "execution_count": null,
   "metadata": {},
   "outputs": [],
   "source": [
    "# same probability, different runs and average.\n",
    "\n",
    "# System Settings\n",
    "v = quvec([1,0,1,0,1,1])\n",
    "# v = quvec([1,0,1,1]) + quvec([1,1,0,0]) + quvec([1,0,0,0])\n",
    "P = 0.5\n",
    "runs = 20\n",
    "div = 2\n",
    "tests = 10\n",
    "\n",
    "# plot\n",
    "plt.figure(figsize=(10, 5))\n",
    "\n",
    "# plot all data\n",
    "plt.subplot(1, 2, 1)\n",
    "Entanglement_sum = np.zeros([runs+1])\n",
    "time = np.arange(len(Entanglement))\n",
    "for i in range(0,tests):\n",
    "    # extract the Data \n",
    "    final_state, Entanglement = Z_XX_uniform_probability(v, P, runs, div, evolution=False)\n",
    "    # print(Entanglement, time)\n",
    "    plt.plot(time, Entanglement, marker = '.', markersize = 10, label = f'{i}')\n",
    "    Entanglement_sum += Entanglement\n",
    "\n",
    "plt.title('Entanglement as a Function of Time')\n",
    "plt.legend()\n",
    "plt.grid()\n",
    "plt.xlabel('Time')\n",
    "plt.ylabel('Entanglement Entropy, p = 0.5')\n",
    "\n",
    "# print(len(time),len(Entanglement_sum))\n",
    "\n",
    "\n",
    "# average entanglement for each time and plot\n",
    "Entanglement_avg = Entanglement_sum/tests\n",
    "plt.subplot(1, 2, 2)\n",
    "plt.plot(time, Entanglement_avg, marker = '.', markersize = 10, color = 'orange')\n",
    "# plt.scatter(x_slice, filtered_y, label='Filtered Data',s = 0.8)\n",
    "plt.title(\"Average Entanglement for each Time\")\n",
    "# plt.legend()\n",
    "plt.grid()\n",
    "\n",
    "plt.tight_layout()\n",
    "plt.show()\n",
    "\n",
    "# #Save plot as PNG file\n",
    "# output_file = os.path.join(output_folder, f\"{sheet_name}.png\")\n",
    "# plt.savefig(output_file)\n"
   ]
  },
  {
   "cell_type": "code",
   "execution_count": null,
   "metadata": {},
   "outputs": [],
   "source": [
    "# for different probabilities\n",
    "\n",
    "# System Settings\n",
    "v = quvec([1,0,1,0,1,0])\n",
    "# v = quvec([1,0,1,1]) + quvec([1,1,0,0]) + quvec([1,0,0,0])\n",
    "P = [0.1,0.3, 0.5,0.7, 0.9]\n",
    "runs = 19\n",
    "div = 3\n",
    "trajectories = 50\n",
    "\n",
    "# time = np.arange(len(Entanglement_avg))\n",
    "time = np.arange(runs+1)\n",
    "\n",
    "for p in P:\n",
    "    Entanglement_sum = np.zeros([runs+1])\n",
    "    for i in range(0,trajectories):\n",
    "        # extract the Data \n",
    "        final_state, Entanglement = Z_XX_uniform_probability(v, p, runs, div, evolution=False)\n",
    "        # print(Entanglement, time)\n",
    "        # plt.plot(time, Entanglement, marker = '.', markersize = 10, label = f'{i}')\n",
    "        Entanglement_sum += Entanglement\n",
    "    Entanglement_avg = Entanglement_sum/trajectories\n",
    "\n",
    "    plt.plot(time, Entanglement_avg, marker = '.', markersize = 10, label = f'p = {p}')\n",
    "\n",
    "\n",
    "plt.title('Average Entanglement as a Function of Time - Different Probabilities')\n",
    "# plt.legend()\n",
    "plt.legend(bbox_to_anchor=(1,1))\n",
    "plt.grid()\n",
    "plt.xlabel('Time')\n",
    "plt.ylabel('Entanglement Entropy')\n",
    "plt.show()"
   ]
  },
  {
   "cell_type": "code",
   "execution_count": null,
   "metadata": {},
   "outputs": [],
   "source": [
    "# save data for high numbers\n",
    "\n",
    "# single probability, single trajectory\n",
    "# create an array of entanglemants over runs\n",
    "\n",
    "v = quvec([1,0,1,0,1,0])\n",
    "# v = quvec([1,0,1,1]) + quvec([1,1,0,0]) + quvec([1,0,0,0])\n",
    "P = 0.5\n",
    "runs = 20\n",
    "div = 3\n",
    "\n",
    "final_state, Entanglement = Z_XX_uniform_probability(v, P, runs, div, evolution=False)\n",
    "\n",
    "Entanglement\n",
    "\n"
   ]
  },
  {
   "cell_type": "code",
   "execution_count": null,
   "metadata": {},
   "outputs": [],
   "source": []
  }
 ],
 "metadata": {
  "kernelspec": {
   "display_name": "Python 3",
   "language": "python",
   "name": "python3"
  },
  "language_info": {
   "codemirror_mode": {
    "name": "ipython",
    "version": 3
   },
   "file_extension": ".py",
   "mimetype": "text/x-python",
   "name": "python",
   "nbconvert_exporter": "python",
   "pygments_lexer": "ipython3",
   "version": "3.9.13"
  }
 },
 "nbformat": 4,
 "nbformat_minor": 2
}
