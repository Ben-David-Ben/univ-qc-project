{
 "cells": [
  {
   "cell_type": "code",
   "execution_count": 2,
   "metadata": {},
   "outputs": [
    {
     "name": "stdout",
     "output_type": "stream",
     "text": [
      "imports work\n"
     ]
    }
   ],
   "source": [
    "import numpy as np\n",
    "import matplotlib.pyplot as plt\n",
    "import scipy as sp\n",
    "import math\n",
    "import random \n",
    "\n",
    "pi = np.pi\n",
    "print(\"imports work\")\n"
   ]
  },
  {
   "cell_type": "code",
   "execution_count": 2,
   "metadata": {},
   "outputs": [],
   "source": [
    "# expressing the relation between qbit and its matrix\n",
    "def quvec(a):\n",
    "    exp = 0\n",
    "    b = np.zeros([2**len(a)])\n",
    "    for i in range(len(a)):\n",
    "        exp += (a[-i-1])*(2**i) # -i-1 gives the values from the end of the array\n",
    "    b[exp] = 1\n",
    "    return b\n"
   ]
  },
  {
   "cell_type": "code",
   "execution_count": 3,
   "metadata": {},
   "outputs": [
    {
     "name": "stdout",
     "output_type": "stream",
     "text": [
      "hi\n",
      "hi\n"
     ]
    }
   ],
   "source": [
    "for i in range(2):\n",
    "    print(\"hi\")"
   ]
  },
  {
   "cell_type": "code",
   "execution_count": 22,
   "metadata": {},
   "outputs": [
    {
     "data": {
      "text/plain": [
       "array([0., 0., 0., 1., 0., 0., 0., 0., 1., 0., 0., 0., 0., 0., 0., 0.])"
      ]
     },
     "execution_count": 22,
     "metadata": {},
     "output_type": "execute_result"
    }
   ],
   "source": [
    "v = [0,0,1,1]\n",
    "u = [1,0,0,0]\n",
    "psi = quvec(u)+quvec(v)\n",
    "psi"
   ]
  },
  {
   "cell_type": "code",
   "execution_count": 5,
   "metadata": {},
   "outputs": [],
   "source": [
    "# define the base for a vector represntation of qubit\n",
    "def ket_base(index, L):\n",
    "    n = int(np.log2(L))\n",
    "    b = np.zeros(n)\n",
    "    for i in range(n):\n",
    "        b[-i-1] = index % 2\n",
    "        index = index//2\n",
    "    return b\n",
    "\n",
    "# print the base as kets\n",
    "def as_string_index(index, L):\n",
    "    ket = [str(int(i)) for i in ket_base(index, L)]\n",
    "    return f\"|{','.join(ket)}>\"\n",
    "\n",
    "# print the components of a vector in the base presentation\n",
    "def ket(psi):\n",
    "    kets = [as_string_index(i, len(psi)) for i in range(len(psi))]\n",
    "    return [' + '.join([f'{psi[i]} {kets[i]}' for i in range(len(psi)) if psi[i] != 0])]\n",
    "\n",
    "# print (ket([2, 1, 1, 0]))"
   ]
  },
  {
   "cell_type": "code",
   "execution_count": 6,
   "metadata": {},
   "outputs": [],
   "source": [
    "# 2_D operators and important states\n",
    "# Pauli\n",
    "Z = np.array([[1,0],[0,-1]])\n",
    "X = np.array([[0,1],[1,0]])\n",
    "Y = np.array([[0,-1j],[1j,0]])\n",
    "I = np.array([[1,0],[0,1]])\n",
    "\n",
    "# Clifford\n",
    "H = 1/np.sqrt(2) * np.array([[1,1],[1,-1]])\n",
    "S = np.array([[1j,0],[0,-1j]])\n",
    "T = np.array([[1,0],[0,np.exp((1j*pi)/4)]])\n",
    "\n",
    "# X base\n",
    "plus = (quvec([0]) + quvec([1]))/np.sqrt(2)\n",
    "minus = (quvec([0]) - quvec([1]))/np.sqrt(2)\n",
    "\n",
    "# bell states\n",
    "\n"
   ]
  },
  {
   "cell_type": "code",
   "execution_count": 7,
   "metadata": {},
   "outputs": [],
   "source": [
    "# function to operate gates on a state\n",
    "def operate(operators, psi):\n",
    "    vec_psi = quvec(psi)\n",
    "    for i in range(len(operators)):\n",
    "        vec_psi = np.matmul(operators[-i-1], vec_psi)\n",
    "    return vec_psi"
   ]
  },
  {
   "cell_type": "code",
   "execution_count": 8,
   "metadata": {},
   "outputs": [],
   "source": [
    "# creat n dimension gates\n",
    "def n_d_gates(operators):\n",
    "    gate = operators[-1]\n",
    "    for i in range(len(operators)-1):\n",
    "        gate = np.kron(operators[-i-2],gate)\n",
    "    return gate\n"
   ]
  },
  {
   "cell_type": "code",
   "execution_count": 9,
   "metadata": {},
   "outputs": [],
   "source": [
    "# apply general operators on a general qubit\n",
    "def general_operate(gates,qvec): # gates is a list of gates and theis indices, i.e [X,0,Y,2] will apply X on the 0th qubit and Y on the 2nd\n",
    "    # the first qubit index is 0\n",
    "    init_gate = [I]*(int(np.log2(len(qvec))))\n",
    "    i = 1\n",
    "    while i <= len(gates):\n",
    "        init_gate[gates[i]] = gates[i-1]\n",
    "        i += 2\n",
    "    final_gate = n_d_gates(init_gate)\n",
    "    a = np.matmul(final_gate,qvec)\n",
    "    # a = operate([final_gate], qvec)\n",
    "    return a"
   ]
  },
  {
   "cell_type": "code",
   "execution_count": 10,
   "metadata": {},
   "outputs": [
    {
     "name": "stdout",
     "output_type": "stream",
     "text": [
      "psi_1 = ['-1.0 |1,0,0,0,0,0>']\n"
     ]
    }
   ],
   "source": [
    "psi = [1,0,0,1,0,0]\n",
    "psi_1 = general_operate([Z,0,X,3], quvec(psi))\n",
    "print (\"psi_1 =\", ket(psi_1))\n"
   ]
  },
  {
   "cell_type": "markdown",
   "metadata": {},
   "source": [
    "- create loop for operators\n",
    "\n",
    "- create function for operators and qubits W.O defining the n dimensions function each time\n",
    "\n",
    "- Neel states\n",
    "\n",
    "- projective measurements, understand how to create them. see which one is more applied.\n",
    "\n",
    "next time:\n",
    "- learn how to calculate entanglement."
   ]
  },
  {
   "cell_type": "code",
   "execution_count": 11,
   "metadata": {},
   "outputs": [],
   "source": [
    "# normalize a state\n",
    "def norm(qvec):\n",
    "    qvec_size = np.matmul(np.conj(qvec),qvec)\n",
    "    normalized_state = (qvec)/np.sqrt(qvec_size)\n",
    "    return normalized_state\n",
    "    \n",
    "#8 this function takes a state in superposition of base vectors and return only one, considering probabilities\n",
    "def measure_probability(state):       # state should be an array - vector\n",
    "    final_state = np.zeros(len(state))\n",
    "    outcomes = list(range(0,len(state)))\n",
    "    probabilities = norm(state)\n",
    "    measurment = random.choices(outcomes, weights=probabilities, k=1)\n",
    "    final_state[measurment[0]] = 1\n",
    "    return final_state\n"
   ]
  },
  {
   "cell_type": "code",
   "execution_count": 12,
   "metadata": {},
   "outputs": [],
   "source": [
    "# measure speific qubit in specific  state\n",
    "\n",
    "def tensor_exponent(tensor,power):\n",
    "    i = 1\n",
    "    if power != 0:\n",
    "        power_tensor = tensor\n",
    "        while i < power:\n",
    "            power_tensor = np.kron(tensor, power_tensor)\n",
    "            i += 1\n",
    "    else:\n",
    "        power_tensor = 1\n",
    "    return power_tensor\n",
    "\n",
    "\n",
    "def index_vector(spin,location,dimension): \n",
    "    plus = [1,1]\n",
    "    index_psi0 = np.kron(tensor_exponent(plus,location), quvec([spin]))\n",
    "    index_psi = np.kron(index_psi0, tensor_exponent(plus,dimension-1-location))\n",
    "    return index_psi\n",
    "\n",
    "def collapse(spin,location,state): #spin is a number (0 or 1), location is the wanted place to measure spin from 0 to n-1, state in vector form\n",
    "    dimension = np.log2(len(state))\n",
    "    index_psi = index_vector(spin,location,dimension)\n",
    "    probability_vec = index_psi * norm(state)\n",
    "    probability = np.matmul(np.conj(probability_vec), probability_vec)\n",
    "    collapsed = norm(measure_probability(probability_vec))\n",
    "    return probability, norm(probability_vec), collapsed\n",
    "\n"
   ]
  },
  {
   "cell_type": "code",
   "execution_count": 13,
   "metadata": {},
   "outputs": [
    {
     "name": "stdout",
     "output_type": "stream",
     "text": [
      "probability: 1.0000000000000002 \n",
      " result: ['0.5773502691896258 |0,0,1> + 0.5773502691896258 |1,0,0> + 0.5773502691896258 |1,0,1>']\n"
     ]
    }
   ],
   "source": [
    "i = 1\n",
    "j = 1\n",
    "k = 1\n",
    "\n",
    "state = (i*quvec([1,0,1]) + j*quvec([1,0,0]) + k*quvec([0,0,1]))\n",
    "a, b, c = collapse(0,1,state) #first is spin. second is cite, starting from 0.\n",
    "print(\"probability:\", a,\"\\n\", \"result:\", ket(b))\n"
   ]
  },
  {
   "cell_type": "markdown",
   "metadata": {},
   "source": [
    "- create histograms to show the outcomes of over many measurements\n",
    "\n",
    "- create measurement option for different bases\n",
    "\n",
    "- measure multiple qubits in certain state\n",
    "\n",
    "- collapsed state is unnecessary\n",
    "\n",
    "- more than one cite measurments, start with neighboring cites"
   ]
  },
  {
   "cell_type": "markdown",
   "metadata": {},
   "source": [
    "Measurements"
   ]
  },
  {
   "cell_type": "code",
   "execution_count": 14,
   "metadata": {},
   "outputs": [],
   "source": [
    "# working measurement for 2d\n",
    "def bias_coin(A , B , p):\n",
    "    r = random.random()  # Generates a random float between 0 and 1\n",
    "    if r < p:\n",
    "        return A\n",
    "    else:\n",
    "        return B\n",
    "    \n",
    "#  binomial bias coin  \n",
    "# pr=random.choices([1,-1], cum_weights = [pc,1], k = L)\n",
    "\n",
    "def observation_value(operator, state): #for pauli, observation ranges between -1 and 1 due to eigenvalues\n",
    "    a = norm(state)\n",
    "    b = np.matmul(operator,a) # O|v>\n",
    "    c = np.conj(a) # <v|\n",
    "    d = np.round(np.matmul(c,b), 10) # <v|O|v>, rounding is for values close to zero to be zero\n",
    "    return d\n",
    "\n",
    "def projector(operator, eigenvalue):\n",
    "    proj = (I + eigenvalue * operator)/2\n",
    "    return proj\n",
    "    \n",
    "    \n",
    "def Measure_2d(operator, state):\n",
    "    state = norm(state)\n",
    "    p = (observation_value(operator,state) + 1)/2 # Changes <O> range from {-1,1} to {0,1}\n",
    "    eigenvalue = bias_coin(1, -1, p) \n",
    "    proj = projector(operator, eigenvalue)\n",
    "    return norm(np.matmul(proj, state)) , np.real(p)\n",
    "\n",
    "\n"
   ]
  },
  {
   "cell_type": "code",
   "execution_count": 15,
   "metadata": {},
   "outputs": [],
   "source": [
    "    \n",
    "def Measure(operator, state, site):\n",
    "    dimension  = int(np.log2(len(state)))\n",
    "    operator_site = [I]*(site) + [operator] + [I]*(dimension-site-1) #operator list for O in the site place \n",
    "    operator_n = n_d_gates(operator_site) # operator of O in the site place, for all the other sites its identity \n",
    "\n",
    "    p = (observation_value(operator_n,state) + 1)/2 # Changes <O> range from {-1,1} to {0,1}\n",
    "    eigenvalue = bias_coin(1, -1, p) #choose eigenvalue biased by the observation value result\n",
    "    \n",
    "    proj_1d = projector(operator, eigenvalue) # define the 2d projector based on the chosen eigenvalue\n",
    "    proj = n_d_gates([I]*(site) + [proj_1d] + [I]*(dimension-site-1)) # create operator to project on the wanted site\n",
    "    return norm(np.matmul(proj, state)) , np.real(p), 1-np.real(p)\n"
   ]
  },
  {
   "cell_type": "code",
   "execution_count": 16,
   "metadata": {},
   "outputs": [
    {
     "name": "stdout",
     "output_type": "stream",
     "text": [
      "state: [0. 1.] P: 0.5\n"
     ]
    }
   ],
   "source": [
    "a , b = Measure_2d(Z, (quvec([1]) - quvec([0]))/np.sqrt(2))\n",
    "\n",
    "print(\"state:\", a, \"P:\", b)"
   ]
  },
  {
   "cell_type": "code",
   "execution_count": 17,
   "metadata": {},
   "outputs": [
    {
     "data": {
      "text/plain": [
       "<matplotlib.collections.PathCollection at 0x1e4d6e7f6d0>"
      ]
     },
     "execution_count": 17,
     "metadata": {},
     "output_type": "execute_result"
    },
    {
     "data": {
      "image/png": "[encoded data removed]",
      "text/plain": [
       "<Figure size 640x480 with 1 Axes>"
      ]
     },
     "metadata": {},
     "output_type": "display_data"
    }
   ],
   "source": [
    "# a = choose_weighted(1,-1,0.9)\n",
    "# a\n",
    "R = []\n",
    "    \n",
    "for i in range(50):\n",
    "    R.append(bias_coin(1,-1,0.9))\n",
    "\n",
    "# print(R)\n",
    "\n",
    "# np.histogram(R)\n",
    "plt.scatter(np.linspace(0, len(R), 50),R)\n",
    "# plt.show()\n",
    "# plt.plot(np.linspace(0, len(R), 1000) ,R)\n"
   ]
  },
  {
   "cell_type": "code",
   "execution_count": 18,
   "metadata": {},
   "outputs": [
    {
     "name": "stdout",
     "output_type": "stream",
     "text": [
      "measured ['0.7071067811865475 |0> + 0.7071067811865475 |1>'] p+ 0.5 p- 0.5\n"
     ]
    }
   ],
   "source": [
    "# v = norm(quvec([1,1,0,1,0])+quvec([1,0,0,0,0]))\n",
    "# v = norm(quvec([1,1,0,1,0]))\n",
    "v = norm(quvec([0]))\n",
    "\n",
    "a, b ,c = Measure(X,v,0)\n",
    "print(\"measured\",ket(a),\"p+\", b ,\"p-\", c)\n"
   ]
  },
  {
   "cell_type": "code",
   "execution_count": null,
   "metadata": {},
   "outputs": [
    {
     "data": {
      "image/png": "[encoded data removed]",
      "text/plain": [
       "<Figure size 640x480 with 1 Axes>"
      ]
     },
     "metadata": {},
     "output_type": "display_data"
    }
   ],
   "source": [
    "x = np.linspace(0, 2, 1000)\n",
    "y = np.exp(-x)\n",
    "z = np.exp(-x**2)\n",
    "plt.plot(x,y,'r', label = 'non squered')\n",
    "plt.plot(x,z,'g', label = 'squered')\n",
    "plt.grid(True)\n",
    "plt.legend()\n",
    "plt.show()"
   ]
  }
 ],
 "metadata": {
  "kernelspec": {
   "display_name": "Python 3",
   "language": "python",
   "name": "python3"
  },
  "language_info": {
   "codemirror_mode": {
    "name": "ipython",
    "version": 3
   },
   "file_extension": ".py",
   "mimetype": "text/x-python",
   "name": "python",
   "nbconvert_exporter": "python",
   "pygments_lexer": "ipython3",
   "version": "3.9.13"
  }
 },
 "nbformat": 4,
 "nbformat_minor": 2
}
