{
 "cells": [
  {
   "cell_type": "markdown",
   "metadata": {},
   "source": [
    "$Notes$\n",
    "1. tensor jup: base [0] = (1,0) and site count start from 0.\n",
    "2. tensor jup correct base: [0] = (0,1) and site count start from 1"
   ]
  },
  {
   "cell_type": "markdown",
   "metadata": {},
   "source": [
    "$Functions$\n",
    "\n",
    "1. quvec(state) - takes a state and represent it as Z base vector\n",
    "2. ket(vec) - takes a vector and represent it as a Ket\n",
    "3. operate(operators, psi) - operate a list of operators on a state\n",
    "4. n_d_gates(operators) - tensor product a list of operators by theis order the list\n",
    "5. matrix_gate(gates,quvec) - gates is a list of gates and theis indices, i.e [X,0,Y,2], compose a matrix in the size of the state with the given gates\n",
    "5. general_operate(gates,qvec) - gates is a list of gates and theis indices, i.e [X,0,Y,2] will apply X on the 0th qubit and Y on the 2nd of the state\n",
    "    \n",
    "6. norm(state) - normalize a state\n",
    "7. NOT IN CODE. measure_2d(state) - recievve a 1d state and collapses it randomally to an eigenstate of Z\n",
    "8. measure_probability(state) - recieve super position of Z base and outputs only one eigenstate \n",
    "    randomlly\n",
    "    chosen with probability bias\n",
    "9. tensor_exponent(tensor,power) - gets a tensor and returns the tensor product done with it self for \"power\" \n",
    "    times\n",
    "10. NOT IN CODE. index vector(spin,location,dimension) - return the superposition of states in Z base with the given    \n",
    "    dimension that has the given spin in location\n",
    "    \n",
    "11. NOT IN CODE. collapse(spin,location,state) - collapse state to only the eigenstates with the pointed spin and location\n",
    "12. NOT IN CODE bias_coin(A , B , p) - choose randomly between A and B with a bias p. as p grows, chance for A grows\n",
    "13. observation_value(operator, state) - operator observation value\n",
    "14. projector(operator, eigenvalue) - returns the + or - projector of clifford gate\n",
    "15. Measure_2d(operator, state) - performs the clifford gate measurement on a state, return collapsed state and\n",
    "    proobability for +1 eigenvalue\n",
    "16. Measure(operator, state, site) - for any dimension, operator measurement on specific gate\n",
    "17. NOT IN CODE. measure_simultaneously_seperate(measureables, state) - gets list of operators and sites i.e [X,1,Y,2] and measure the outcome,  of a state by taking expeectation value for each site seperately.\n",
    "18. measure_simultaneously2(measureables, state) - taknig the expectation value for the whole operator and measures it.\n",
    "19. Measure_Z_for_entire_state(state, probability) - series of Z measurements for each site at a time, probability for measuring a site is given.\n",
    "20. Measure_XX_for_entire_state(state, probability) - like for Z but measure XX for each neighboring sites.\n",
    "21. sequence(state, probability, runs) - apply measure Z and XX for entire state measurements, repeats the process as given in runs."
   ]
  },
  {
   "cell_type": "markdown",
   "metadata": {},
   "source": [
    "$To Do's$\n",
    " \n",
    "- run codes for more time, store the data for each run in another file.\n",
    "- smooth plots - more runs and trajectories, as higher systems I can have\n",
    "- plot expectation value on Z for each site for a single trajectory for each time.\n",
    "\n",
    "$Questions$\n"
   ]
  },
  {
   "cell_type": "code",
   "execution_count": null,
   "metadata": {},
   "outputs": [],
   "source": [
    "#7\n",
    "def measure_2d(state):\n",
    "    N_state = norm(state) #normalize the given state\n",
    "    P_0 = np.abs(N_state[0])\n",
    "    r = random.random()\n",
    "    if r < (P_0)**2:\n",
    "        N_state[1] = 0\n",
    "    else:\n",
    "        N_state[0] = 0\n",
    "    return norm(N_state)\n"
   ]
  },
  {
   "cell_type": "code",
   "execution_count": null,
   "metadata": {},
   "outputs": [],
   "source": [
    "# 12\n",
    "def bias_coin(A , B , p):\n",
    "    r = random.random()  # Generates a random float between 0 and 1\n",
    "    if r < p:\n",
    "        return A\n",
    "    else:\n",
    "        return B\n"
   ]
  },
  {
   "cell_type": "code",
   "execution_count": null,
   "metadata": {},
   "outputs": [],
   "source": [
    "#19\n",
    "def measure_simultaneously_seperate(measureables, state): #measureables are operators and sites. i.e [X,1,Y,3]\n",
    "    state = norm(state)\n",
    "    gates = [] # 2d clifford gates\n",
    "    sites = [] # sites list\n",
    "    operators = [] # gates working on each site\n",
    "    dimension  = int(np.log2(len(state)))\n",
    "    i = 0\n",
    "    while i < len(measureables): \n",
    "        gates.append(measureables[i])\n",
    "        site = measureables[i+1]\n",
    "        sites.append(site)\n",
    "\n",
    "        O_l = n_d_gates([I]*(site - 1) + [measureables[i]] + [I]*(dimension-site))\n",
    "        operators.append(O_l)\n",
    "        i += 2\n",
    "\n",
    "    probabilities = [(observation_value(i,state) + 1)/2 for i in operators]\n",
    "    eigenvalues = [random.choices([1,-1], cum_weights = [p,1], k = 1) for p in probabilities]\n",
    "    # sub_projectors = [(I + eigenvalues*i)/2 for i in gates]\n",
    "    sub_projectors = sum([[(I + eigenvalues[i]*gates[i])/2, sites[i]] for i in range(len(gates))], [])\n",
    "    Projected = norm(general_operate(sub_projectors, state))\n",
    "    # return sub_projectors, eigenvalues, probabilities, gates, sites\n",
    "    return Projected,  sub_projectors, eigenvalues, probabilities, gates, sites\n",
    "    \n",
    "\n"
   ]
  },
  {
   "cell_type": "code",
   "execution_count": null,
   "metadata": {},
   "outputs": [],
   "source": [
    "\n",
    "def index_vector(spin,location,dimension): \n",
    "    plus = [1,1]\n",
    "    index_psi0 = np.kron(tensor_exponent(plus,location), quvec([spin]))\n",
    "    index_psi = np.kron(index_psi0, tensor_exponent(plus,dimension-1-location))\n",
    "    return index_psi\n",
    "\n",
    "def collapse(spin,location,state): #spin is a number (0 or 1), location is the wanted place to measure spin from 0 to n-1, state in vector form\n",
    "    dimension = np.log2(len(state))\n",
    "    index_psi = index_vector(spin,location,dimension)\n",
    "    probability_vec = index_psi * norm(state)\n",
    "    probability = np.matmul(np.conj(probability_vec), probability_vec)\n",
    "    collapsed = norm(measure_probability(probability_vec))\n",
    "    return probability, norm(probability_vec), collapsed\n"
   ]
  },
  {
   "cell_type": "markdown",
   "metadata": {},
   "source": []
  },
  {
   "cell_type": "code",
   "execution_count": null,
   "metadata": {},
   "outputs": [],
   "source": []
  }
 ],
 "metadata": {
  "language_info": {
   "name": "python"
  }
 },
 "nbformat": 4,
 "nbformat_minor": 2
}
